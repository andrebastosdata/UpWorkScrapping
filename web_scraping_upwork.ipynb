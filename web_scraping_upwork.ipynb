{
 "cells": [
  {
   "cell_type": "markdown",
   "metadata": {},
   "source": [
    "# Importacoes"
   ]
  },
  {
   "cell_type": "code",
   "execution_count": 224,
   "metadata": {},
   "outputs": [],
   "source": [
    "from selenium import webdriver\n",
    "from selenium.webdriver.support import expected_conditions as EC\n",
    "from webdriver_manager.chrome import ChromeDriverManager\n",
    "from selenium.webdriver.support.ui import WebDriverWait\n",
    "from selenium.webdriver.chrome.options import Options\n",
    "from selenium.webdriver.common.keys import Keys\n",
    "from selenium.webdriver.common.by import By\n",
    "import time\n",
    "import pandas as pd"
   ]
  },
  {
   "cell_type": "markdown",
   "metadata": {},
   "source": [
    "# Iniciando o chrome com uma porta de depuracao"
   ]
  },
  {
   "cell_type": "code",
   "execution_count": 225,
   "metadata": {},
   "outputs": [],
   "source": [
    "opts = Options()\n",
    "opts.add_experimental_option('debuggerAddress', 'localhost:9250')\n",
    "service = webdriver.ChromeService(ChromeDriverManager().install())\n",
    "navegador = webdriver.Chrome(service=service, options=opts)\n",
    "navegador.get('https://www.upwork.com/nx/find-work/best-matches')"
   ]
  },
  {
   "cell_type": "markdown",
   "metadata": {},
   "source": [
    "# Buscando por palavra chave"
   ]
  },
  {
   "cell_type": "code",
   "execution_count": 226,
   "metadata": {},
   "outputs": [
    {
     "name": "stdout",
     "output_type": "stream",
     "text": [
      "Erro na tentativa 1: Message: stale element reference: stale element not found in the current frame\n",
      "  (Session info: chrome=128.0.6613.138); For documentation on this error, please visit: https://www.selenium.dev/documentation/webdriver/troubleshooting/errors#stale-element-reference-exception\n",
      "Stacktrace:\n",
      "\tGetHandleVerifier [0x00F8D933+25811]\n",
      "\t(No symbol) [0x00F1E314]\n",
      "\t(No symbol) [0x00E12523]\n",
      "\t(No symbol) [0x00E180A4]\n",
      "\t(No symbol) [0x00E19988]\n",
      "\t(No symbol) [0x00E19A00]\n",
      "\t(No symbol) [0x00E58ED2]\n",
      "\t(No symbol) [0x00E4EFD2]\n",
      "\t(No symbol) [0x00E7AD2C]\n",
      "\t(No symbol) [0x00E4D475]\n",
      "\t(No symbol) [0x00E7AFC4]\n",
      "\t(No symbol) [0x00E946F0]\n",
      "\t(No symbol) [0x00E7AAC6]\n",
      "\t(No symbol) [0x00E4BEFD]\n",
      "\t(No symbol) [0x00E4C8FD]\n",
      "\tGetHandleVerifier [0x0125F143+2981091]\n",
      "\tGetHandleVerifier [0x012B2FF9+3324825]\n",
      "\tGetHandleVerifier [0x0101B32F+605903]\n",
      "\tGetHandleVerifier [0x01022CBC+637020]\n",
      "\t(No symbol) [0x00F26F4D]\n",
      "\t(No symbol) [0x00F23DD8]\n",
      "\t(No symbol) [0x00F23F75]\n",
      "\t(No symbol) [0x00F16406]\n",
      "\tBaseThreadInitThunk [0x753C7BA9+25]\n",
      "\tRtlInitializeExceptionChain [0x7758C11B+107]\n",
      "\tRtlClearBits [0x7758C09F+191]\n",
      "\n"
     ]
    }
   ],
   "source": [
    "for tentativa in range(2):\n",
    "    try:\n",
    "        search_box = WebDriverWait(navegador, 10).until(\n",
    "            EC.element_to_be_clickable((By.CSS_SELECTOR, 'input[aria-labelledby=\"cfe-job-search-label\"]'))\n",
    "        )\n",
    "\n",
    "        search_box.click()  # Clica no campo\n",
    "        search_box.clear()  # Limpa o campo, se necessário\n",
    "        search_box.send_keys('data engeneer')  # Envia a busca\n",
    "        search_box.send_keys(Keys.RETURN)  # Envia a busca\n",
    "        break  # Sai do loop se a operação for bem-sucedida\n",
    "    except Exception as e:\n",
    "        print(f\"Erro na tentativa {tentativa + 1}: {e}\")\n",
    "        if tentativa == 1:  # Se for a segunda tentativa e ainda houver erro\n",
    "            print(\"Falha ao tentar buscar após 2 tentativas.\")"
   ]
  },
  {
   "cell_type": "markdown",
   "metadata": {},
   "source": [
    "# Extraindo de mais de uma pagina"
   ]
  },
  {
   "cell_type": "code",
   "execution_count": 227,
   "metadata": {},
   "outputs": [],
   "source": [
    "dicionarios_vagas = []\n",
    "\n",
    "# Defina um número máximo de páginas a serem processadas (opcional)\n",
    "max_paginas = 5\n",
    "pagina_atual = 0\n",
    "\n",
    "while pagina_atual < max_paginas:\n",
    "    # Obter todos os artigos na página atual\n",
    "    artigos = navegador.find_elements(By.TAG_NAME, 'article')\n",
    "\n",
    "    for artigo in artigos:\n",
    "        texto = artigo.text\n",
    "        array_resultado = texto.split('\\n')\n",
    "\n",
    "        # Verifica se o primeiro índice é 'FEATURED' e ajusta os índices se necessário\n",
    "        if array_resultado[0] == 'FEATURED':\n",
    "            # Incrementa todos os índices que serão utilizados\n",
    "            dicionario_vaga = {\n",
    "                'tempo_postado': array_resultado[1],  # índice 1\n",
    "                'titulo': array_resultado[2],          # índice 2\n",
    "                'pagamento_verificado': array_resultado[5],  # índice 5\n",
    "                'rating_cliente': array_resultado[7],      # índice 7\n",
    "                'valor_gasto': array_resultado[8],         # índice 8\n",
    "                'localizacao': array_resultado[10],        # índice 10\n",
    "                'tipo_pagamento': array_resultado[11],     # índice 11\n",
    "                'nivel_dificuldade': array_resultado[12],  # índice 12\n",
    "                'estimativa_projeto': array_resultado[14], # índice 14\n",
    "                'descricao_vaga': array_resultado[15],     # índice 15\n",
    "                'palavras_chaves': array_resultado[16:]    # índice 16 em diante\n",
    "            }\n",
    "        else:\n",
    "            # Não precisa ajustar os índices\n",
    "            dicionario_vaga = {\n",
    "                'tempo_postado': array_resultado[0],  # índice 0\n",
    "                'titulo': array_resultado[1],          # índice 1\n",
    "                'pagamento_verificado': array_resultado[4],  # índice 4\n",
    "                'rating_cliente': array_resultado[6],      # índice 6\n",
    "                'valor_gasto': array_resultado[7],         # índice 7\n",
    "                'localizacao': array_resultado[9],        # índice 9\n",
    "                'tipo_pagamento': array_resultado[10],     # índice 10\n",
    "                'nivel_dificuldade': array_resultado[11],  # índice 11\n",
    "                'estimativa_projeto': array_resultado[13], # índice 13\n",
    "                'descricao_vaga': array_resultado[14],     # índice 14\n",
    "                'palavras_chaves': array_resultado[15:]     # índice 15 em diante\n",
    "            }\n",
    "\n",
    "        # Adicionar o dicionário à lista\n",
    "        dicionarios_vagas.append(dicionario_vaga)\n",
    "\n",
    "    # Tentar clicar no botão \"Next\"\n",
    "    try:\n",
    "        button_next = WebDriverWait(navegador, 10).until(\n",
    "            EC.element_to_be_clickable((By.CLASS_NAME, 'air3-pagination-next-btn'))\n",
    "        )\n",
    "        button_next.click()  # Clicar no botão \"Next\"\n",
    "        pagina_atual += 1  # Incrementar o contador de páginas\n",
    "\n",
    "        time.sleep(1)\n",
    "    except Exception as e:\n",
    "        print(f\"Erro ao clicar no botão 'Next': {e}\")\n",
    "        break  # Sair do loop se não conseguir clicar no botão \"Next\""
   ]
  },
  {
   "cell_type": "code",
   "execution_count": 228,
   "metadata": {},
   "outputs": [
    {
     "data": {
      "text/plain": [
       "50"
      ]
     },
     "execution_count": 228,
     "metadata": {},
     "output_type": "execute_result"
    }
   ],
   "source": [
    "len(dicionarios_vagas)"
   ]
  },
  {
   "cell_type": "markdown",
   "metadata": {},
   "source": [
    "# criando dataframe"
   ]
  },
  {
   "cell_type": "code",
   "execution_count": 229,
   "metadata": {},
   "outputs": [],
   "source": [
    "df_vagas = pd.DataFrame(dicionarios_vagas)"
   ]
  },
  {
   "cell_type": "code",
   "execution_count": 223,
   "metadata": {},
   "outputs": [],
   "source": [
    "caminho_arquivo = 'arquivos/data engineer.xlsx'\n",
    "df_vagas.to_excel(caminho_arquivo, index=False)"
   ]
  }
 ],
 "metadata": {
  "kernelspec": {
   "display_name": "venv",
   "language": "python",
   "name": "python3"
  },
  "language_info": {
   "codemirror_mode": {
    "name": "ipython",
    "version": 3
   },
   "file_extension": ".py",
   "mimetype": "text/x-python",
   "name": "python",
   "nbconvert_exporter": "python",
   "pygments_lexer": "ipython3",
   "version": "3.11.7"
  }
 },
 "nbformat": 4,
 "nbformat_minor": 2
}
